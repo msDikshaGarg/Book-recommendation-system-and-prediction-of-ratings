{
 "cells": [
  {
   "cell_type": "markdown",
   "metadata": {
    "id": "45VNFK8mIVWK"
   },
   "source": [
    "<h1>Prediction of ratings based on title of the book</h1>"
   ]
  },
  {
   "cell_type": "code",
   "execution_count": 1,
   "metadata": {
    "colab": {
     "base_uri": "https://localhost:8080/"
    },
    "id": "u-XsIHpKIVWR",
    "outputId": "371ef54b-0855-4de8-adde-7eb327988df5"
   },
   "outputs": [
    {
     "name": "stderr",
     "output_type": "stream",
     "text": [
      "[nltk_data] Downloading package punkt to\n",
      "[nltk_data]     C:\\Users\\myste\\AppData\\Roaming\\nltk_data...\n",
      "[nltk_data]   Package punkt is already up-to-date!\n"
     ]
    }
   ],
   "source": [
    "import pandas as pd \n",
    "import numpy as np \n",
    "from nltk.tokenize import word_tokenize\n",
    "from keras.preprocessing.sequence import pad_sequences\n",
    "from keras.models import Sequential\n",
    "from keras.layers import Dense\n",
    "from keras.layers import Flatten\n",
    "from keras.layers.embeddings import Embedding\n",
    "from keras.preprocessing.text import Tokenizer\n",
    "from sklearn.model_selection import train_test_split \n",
    "from matplotlib import pyplot as plt \n",
    "from sklearn.preprocessing import MinMaxScaler \n",
    "import nltk\n",
    "nltk.download('punkt')\n",
    "import warnings\n",
    "warnings.filterwarnings(\"ignore\")"
   ]
  },
  {
   "cell_type": "markdown",
   "metadata": {},
   "source": [
    "<h3>Loading the file</h3>"
   ]
  },
  {
   "cell_type": "code",
   "execution_count": 2,
   "metadata": {
    "id": "MG8nRfMFIVWS"
   },
   "outputs": [],
   "source": [
    "data = pd.read_csv(r\"C:\\Users\\myste\\Downloads\\archive\\book_data.csv\") "
   ]
  },
  {
   "cell_type": "markdown",
   "metadata": {},
   "source": [
    "<h3>Putting the ratings in self-defined buckets</h3>"
   ]
  },
  {
   "cell_type": "code",
   "execution_count": 3,
   "metadata": {
    "colab": {
     "base_uri": "https://localhost:8080/",
     "height": 1000
    },
    "id": "aEtPjU3KIVWS",
    "outputId": "22b48c47-365b-47b3-fd5e-2343f82c5e7f",
    "scrolled": true
   },
   "outputs": [
    {
     "data": {
      "text/html": [
       "<div>\n",
       "<style scoped>\n",
       "    .dataframe tbody tr th:only-of-type {\n",
       "        vertical-align: middle;\n",
       "    }\n",
       "\n",
       "    .dataframe tbody tr th {\n",
       "        vertical-align: top;\n",
       "    }\n",
       "\n",
       "    .dataframe thead th {\n",
       "        text-align: right;\n",
       "    }\n",
       "</style>\n",
       "<table border=\"1\" class=\"dataframe\">\n",
       "  <thead>\n",
       "    <tr style=\"text-align: right;\">\n",
       "      <th></th>\n",
       "      <th>book_authors</th>\n",
       "      <th>book_desc</th>\n",
       "      <th>book_edition</th>\n",
       "      <th>book_format</th>\n",
       "      <th>book_isbn</th>\n",
       "      <th>book_pages</th>\n",
       "      <th>book_rating</th>\n",
       "      <th>book_rating_count</th>\n",
       "      <th>book_review_count</th>\n",
       "      <th>book_title</th>\n",
       "      <th>genres</th>\n",
       "      <th>image_url</th>\n",
       "    </tr>\n",
       "  </thead>\n",
       "  <tbody>\n",
       "    <tr>\n",
       "      <th>0</th>\n",
       "      <td>Suzanne Collins</td>\n",
       "      <td>Winning will make you famous. Losing means cer...</td>\n",
       "      <td>NaN</td>\n",
       "      <td>Hardcover</td>\n",
       "      <td>9.78044E+12</td>\n",
       "      <td>374 pages</td>\n",
       "      <td>4.0</td>\n",
       "      <td>5519135</td>\n",
       "      <td>160706</td>\n",
       "      <td>The Hunger Games</td>\n",
       "      <td>Young Adult|Fiction|Science Fiction|Dystopia|F...</td>\n",
       "      <td>https://images.gr-assets.com/books/1447303603l...</td>\n",
       "    </tr>\n",
       "    <tr>\n",
       "      <th>1</th>\n",
       "      <td>J.K. Rowling|Mary GrandPré</td>\n",
       "      <td>There is a door at the end of a silent corrido...</td>\n",
       "      <td>US Edition</td>\n",
       "      <td>Paperback</td>\n",
       "      <td>9.78044E+12</td>\n",
       "      <td>870 pages</td>\n",
       "      <td>4.0</td>\n",
       "      <td>2041594</td>\n",
       "      <td>33264</td>\n",
       "      <td>Harry Potter and the Order of the Phoenix</td>\n",
       "      <td>Fantasy|Young Adult|Fiction</td>\n",
       "      <td>https://images.gr-assets.com/books/1255614970l...</td>\n",
       "    </tr>\n",
       "    <tr>\n",
       "      <th>2</th>\n",
       "      <td>Harper Lee</td>\n",
       "      <td>The unforgettable novel of a childhood in a sl...</td>\n",
       "      <td>50th Anniversary</td>\n",
       "      <td>Paperback</td>\n",
       "      <td>9.78006E+12</td>\n",
       "      <td>324 pages</td>\n",
       "      <td>4.0</td>\n",
       "      <td>3745197</td>\n",
       "      <td>79450</td>\n",
       "      <td>To Kill a Mockingbird</td>\n",
       "      <td>Classics|Fiction|Historical|Historical Fiction...</td>\n",
       "      <td>https://images.gr-assets.com/books/1361975680l...</td>\n",
       "    </tr>\n",
       "    <tr>\n",
       "      <th>3</th>\n",
       "      <td>Jane Austen|Anna Quindlen|Mrs. Oliphant|George...</td>\n",
       "      <td>«È cosa ormai risaputa che a uno scapolo in po...</td>\n",
       "      <td>Modern Library Classics, USA / CAN</td>\n",
       "      <td>Paperback</td>\n",
       "      <td>9.78068E+12</td>\n",
       "      <td>279 pages</td>\n",
       "      <td>4.0</td>\n",
       "      <td>2453620</td>\n",
       "      <td>54322</td>\n",
       "      <td>Pride and Prejudice</td>\n",
       "      <td>Classics|Fiction|Romance</td>\n",
       "      <td>https://images.gr-assets.com/books/1320399351l...</td>\n",
       "    </tr>\n",
       "    <tr>\n",
       "      <th>4</th>\n",
       "      <td>Stephenie Meyer</td>\n",
       "      <td>About three things I was absolutely positive.F...</td>\n",
       "      <td>NaN</td>\n",
       "      <td>Paperback</td>\n",
       "      <td>9.78032E+12</td>\n",
       "      <td>498 pages</td>\n",
       "      <td>3.0</td>\n",
       "      <td>4281268</td>\n",
       "      <td>97991</td>\n",
       "      <td>Twilight</td>\n",
       "      <td>Young Adult|Fantasy|Romance|Paranormal|Vampire...</td>\n",
       "      <td>https://images.gr-assets.com/books/1361039443l...</td>\n",
       "    </tr>\n",
       "    <tr>\n",
       "      <th>...</th>\n",
       "      <td>...</td>\n",
       "      <td>...</td>\n",
       "      <td>...</td>\n",
       "      <td>...</td>\n",
       "      <td>...</td>\n",
       "      <td>...</td>\n",
       "      <td>...</td>\n",
       "      <td>...</td>\n",
       "      <td>...</td>\n",
       "      <td>...</td>\n",
       "      <td>...</td>\n",
       "      <td>...</td>\n",
       "    </tr>\n",
       "    <tr>\n",
       "      <th>54296</th>\n",
       "      <td>Howard Megdal</td>\n",
       "      <td>In this fearless and half-crazy story, Howard ...</td>\n",
       "      <td>NaN</td>\n",
       "      <td>Hardcover</td>\n",
       "      <td>9.78161E+12</td>\n",
       "      <td>256 pages</td>\n",
       "      <td>3.0</td>\n",
       "      <td>27</td>\n",
       "      <td>9</td>\n",
       "      <td>Taking the Field: A Fan's Quest to Run the Tea...</td>\n",
       "      <td>Sports|Baseball|Sports and Games|Sports|Nonfic...</td>\n",
       "      <td>https://images.gr-assets.com/books/1312074392l...</td>\n",
       "    </tr>\n",
       "    <tr>\n",
       "      <th>54297</th>\n",
       "      <td>Howard Megdal</td>\n",
       "      <td>From the icons of the game to the players who ...</td>\n",
       "      <td>NaN</td>\n",
       "      <td>Hardcover</td>\n",
       "      <td>9.78006E+12</td>\n",
       "      <td>256 pages</td>\n",
       "      <td>4.0</td>\n",
       "      <td>34</td>\n",
       "      <td>5</td>\n",
       "      <td>The Baseball Talmud: Koufax, Greenberg, and th...</td>\n",
       "      <td>Nonfiction|Sports and Games|Sports</td>\n",
       "      <td>https://images.gr-assets.com/books/1348841629l...</td>\n",
       "    </tr>\n",
       "    <tr>\n",
       "      <th>54298</th>\n",
       "      <td>Howard Megdal</td>\n",
       "      <td>NaN</td>\n",
       "      <td>NaN</td>\n",
       "      <td>Kindle Edition</td>\n",
       "      <td>NaN</td>\n",
       "      <td>NaN</td>\n",
       "      <td>3.0</td>\n",
       "      <td>32</td>\n",
       "      <td>3</td>\n",
       "      <td>Wilpon's Folly - The Story of a Man, His Fortu...</td>\n",
       "      <td>Sports|Baseball|Abandoned</td>\n",
       "      <td>https://images.gr-assets.com/books/1394277097l...</td>\n",
       "    </tr>\n",
       "    <tr>\n",
       "      <th>54299</th>\n",
       "      <td>Mimi Baird|Eve Claxton</td>\n",
       "      <td>Soon to be a major motion picture, from Brad P...</td>\n",
       "      <td>NaN</td>\n",
       "      <td>Hardcover</td>\n",
       "      <td>9.7808E+12</td>\n",
       "      <td>272 pages</td>\n",
       "      <td>4.0</td>\n",
       "      <td>867</td>\n",
       "      <td>187</td>\n",
       "      <td>He Wanted the Moon: The Madness and Medical Ge...</td>\n",
       "      <td>Nonfiction|Autobiography|Memoir|Biography|Psyc...</td>\n",
       "      <td>https://images.gr-assets.com/books/1403192135l...</td>\n",
       "    </tr>\n",
       "    <tr>\n",
       "      <th>54300</th>\n",
       "      <td>Leah Price</td>\n",
       "      <td>The Anthology and the Rise of the Novel brings...</td>\n",
       "      <td>NaN</td>\n",
       "      <td>Paperback</td>\n",
       "      <td>9.78052E+12</td>\n",
       "      <td>236 pages</td>\n",
       "      <td>3.0</td>\n",
       "      <td>12</td>\n",
       "      <td>3</td>\n",
       "      <td>The Anthology and the Rise of the Novel: From ...</td>\n",
       "      <td>Criticism|Literary Criticism|Philosophy|Theory...</td>\n",
       "      <td>https://images.gr-assets.com/books/1349014225l...</td>\n",
       "    </tr>\n",
       "  </tbody>\n",
       "</table>\n",
       "<p>54301 rows × 12 columns</p>\n",
       "</div>"
      ],
      "text/plain": [
       "                                            book_authors  \\\n",
       "0                                        Suzanne Collins   \n",
       "1                             J.K. Rowling|Mary GrandPré   \n",
       "2                                             Harper Lee   \n",
       "3      Jane Austen|Anna Quindlen|Mrs. Oliphant|George...   \n",
       "4                                        Stephenie Meyer   \n",
       "...                                                  ...   \n",
       "54296                                      Howard Megdal   \n",
       "54297                                      Howard Megdal   \n",
       "54298                                      Howard Megdal   \n",
       "54299                             Mimi Baird|Eve Claxton   \n",
       "54300                                         Leah Price   \n",
       "\n",
       "                                               book_desc  \\\n",
       "0      Winning will make you famous. Losing means cer...   \n",
       "1      There is a door at the end of a silent corrido...   \n",
       "2      The unforgettable novel of a childhood in a sl...   \n",
       "3      «È cosa ormai risaputa che a uno scapolo in po...   \n",
       "4      About three things I was absolutely positive.F...   \n",
       "...                                                  ...   \n",
       "54296  In this fearless and half-crazy story, Howard ...   \n",
       "54297  From the icons of the game to the players who ...   \n",
       "54298                                                NaN   \n",
       "54299  Soon to be a major motion picture, from Brad P...   \n",
       "54300  The Anthology and the Rise of the Novel brings...   \n",
       "\n",
       "                             book_edition     book_format    book_isbn  \\\n",
       "0                                     NaN       Hardcover  9.78044E+12   \n",
       "1                              US Edition       Paperback  9.78044E+12   \n",
       "2                        50th Anniversary       Paperback  9.78006E+12   \n",
       "3      Modern Library Classics, USA / CAN       Paperback  9.78068E+12   \n",
       "4                                     NaN       Paperback  9.78032E+12   \n",
       "...                                   ...             ...          ...   \n",
       "54296                                 NaN       Hardcover  9.78161E+12   \n",
       "54297                                 NaN       Hardcover  9.78006E+12   \n",
       "54298                                 NaN  Kindle Edition          NaN   \n",
       "54299                                 NaN       Hardcover   9.7808E+12   \n",
       "54300                                 NaN       Paperback  9.78052E+12   \n",
       "\n",
       "      book_pages  book_rating  book_rating_count  book_review_count  \\\n",
       "0      374 pages          4.0            5519135             160706   \n",
       "1      870 pages          4.0            2041594              33264   \n",
       "2      324 pages          4.0            3745197              79450   \n",
       "3      279 pages          4.0            2453620              54322   \n",
       "4      498 pages          3.0            4281268              97991   \n",
       "...          ...          ...                ...                ...   \n",
       "54296  256 pages          3.0                 27                  9   \n",
       "54297  256 pages          4.0                 34                  5   \n",
       "54298        NaN          3.0                 32                  3   \n",
       "54299  272 pages          4.0                867                187   \n",
       "54300  236 pages          3.0                 12                  3   \n",
       "\n",
       "                                              book_title  \\\n",
       "0                                       The Hunger Games   \n",
       "1              Harry Potter and the Order of the Phoenix   \n",
       "2                                  To Kill a Mockingbird   \n",
       "3                                    Pride and Prejudice   \n",
       "4                                               Twilight   \n",
       "...                                                  ...   \n",
       "54296  Taking the Field: A Fan's Quest to Run the Tea...   \n",
       "54297  The Baseball Talmud: Koufax, Greenberg, and th...   \n",
       "54298  Wilpon's Folly - The Story of a Man, His Fortu...   \n",
       "54299  He Wanted the Moon: The Madness and Medical Ge...   \n",
       "54300  The Anthology and the Rise of the Novel: From ...   \n",
       "\n",
       "                                                  genres  \\\n",
       "0      Young Adult|Fiction|Science Fiction|Dystopia|F...   \n",
       "1                            Fantasy|Young Adult|Fiction   \n",
       "2      Classics|Fiction|Historical|Historical Fiction...   \n",
       "3                               Classics|Fiction|Romance   \n",
       "4      Young Adult|Fantasy|Romance|Paranormal|Vampire...   \n",
       "...                                                  ...   \n",
       "54296  Sports|Baseball|Sports and Games|Sports|Nonfic...   \n",
       "54297                 Nonfiction|Sports and Games|Sports   \n",
       "54298                          Sports|Baseball|Abandoned   \n",
       "54299  Nonfiction|Autobiography|Memoir|Biography|Psyc...   \n",
       "54300  Criticism|Literary Criticism|Philosophy|Theory...   \n",
       "\n",
       "                                               image_url  \n",
       "0      https://images.gr-assets.com/books/1447303603l...  \n",
       "1      https://images.gr-assets.com/books/1255614970l...  \n",
       "2      https://images.gr-assets.com/books/1361975680l...  \n",
       "3      https://images.gr-assets.com/books/1320399351l...  \n",
       "4      https://images.gr-assets.com/books/1361039443l...  \n",
       "...                                                  ...  \n",
       "54296  https://images.gr-assets.com/books/1312074392l...  \n",
       "54297  https://images.gr-assets.com/books/1348841629l...  \n",
       "54298  https://images.gr-assets.com/books/1394277097l...  \n",
       "54299  https://images.gr-assets.com/books/1403192135l...  \n",
       "54300  https://images.gr-assets.com/books/1349014225l...  \n",
       "\n",
       "[54301 rows x 12 columns]"
      ]
     },
     "execution_count": 3,
     "metadata": {},
     "output_type": "execute_result"
    }
   ],
   "source": [
    "data.loc[(data['book_rating'] <= 5.0 ) & (data['book_rating'] >= 4.5 ), 'book_rating'] = 5.0\n",
    "data.loc[(data['book_rating'] < 4.5 ) & (data['book_rating'] >= 3.7 ), 'book_rating'] = 4.0\n",
    "data.loc[(data['book_rating'] < 3.7 ) & (data['book_rating'] >= 2.8 ), 'book_rating'] = 3.0\n",
    "data.loc[(data['book_rating'] < 2.8 ) & (data['book_rating'] >= 1.8 ), 'book_rating'] = 2.0\n",
    "data.loc[(data['book_rating'] < 1.8 ) & (data['book_rating'] >= 0.0 ), 'book_rating'] = 1.0\n",
    "data"
   ]
  },
  {
   "cell_type": "code",
   "execution_count": 4,
   "metadata": {
    "id": "srBazj5YIVWU"
   },
   "outputs": [],
   "source": [
    "books = data['book_title'].to_numpy()"
   ]
  },
  {
   "cell_type": "markdown",
   "metadata": {},
   "source": [
    "<h3>A function for tokenizing the words and padding sentences</h3>"
   ]
  },
  {
   "cell_type": "code",
   "execution_count": 5,
   "metadata": {
    "id": "Cq1iQIyjIVWU"
   },
   "outputs": [],
   "source": [
    "def feature_correction(books):\n",
    "    #Tokenizes the words\n",
    "    word_tokenizer = Tokenizer()\n",
    "    word_tokenizer.fit_on_texts(books)\n",
    "    vocab_length = len(word_tokenizer.word_index) + 1\n",
    "    #Makes the tokens into vectors\n",
    "    embedded_sentences = word_tokenizer.texts_to_sequences(books)\n",
    "    word_count = lambda sentence: len(word_tokenize(sentence))\n",
    "    #Finding the length of the longest vector\n",
    "    longest_sentence = max(books, key=word_count)\n",
    "    length_long_sentence = len(word_tokenize(longest_sentence))\n",
    "    #Padding the senteces to be the sam length as the longest vector\n",
    "    padded_sentences = pad_sequences(embedded_sentences, length_long_sentence, padding='post')\n",
    "    #Scaling the vectors\n",
    "    scaled_sentences = MinMaxScaler() \n",
    "    padded_sentences = scaled_sentences.fit_transform(padded_sentences) \n",
    "    return padded_sentences , vocab_length, word_tokenizer, length_long_sentence"
   ]
  },
  {
   "cell_type": "code",
   "execution_count": 6,
   "metadata": {
    "id": "xGU_UpwXIVWU"
   },
   "outputs": [],
   "source": [
    "padded_sentences , vocab_length,  word_tokenizer, length_long_sentence = feature_correction(books)"
   ]
  },
  {
   "cell_type": "code",
   "execution_count": 7,
   "metadata": {
    "id": "UJphIy2lIVWU"
   },
   "outputs": [],
   "source": [
    "buckets = data['book_rating'].to_numpy()"
   ]
  },
  {
   "cell_type": "markdown",
   "metadata": {},
   "source": [
    "<h3>One Hot Encoding the ratings for better analysis</h3>"
   ]
  },
  {
   "cell_type": "code",
   "execution_count": 8,
   "metadata": {
    "id": "MpFn5qmRIVWV"
   },
   "outputs": [
    {
     "data": {
      "text/plain": [
       "array([[0., 0., 0., 1., 0.],\n",
       "       [0., 0., 0., 1., 0.],\n",
       "       [0., 0., 0., 1., 0.],\n",
       "       ...,\n",
       "       [0., 0., 1., 0., 0.],\n",
       "       [0., 0., 0., 1., 0.],\n",
       "       [0., 0., 1., 0., 0.]])"
      ]
     },
     "execution_count": 8,
     "metadata": {},
     "output_type": "execute_result"
    }
   ],
   "source": [
    "oneHotEncoded = np.zeros((len(buckets),5))\n",
    "for index,label in enumerate(buckets):\n",
    "    oneHotEncoded[index,int(label)-1] = 1\n",
    "oneHotEncoded"
   ]
  },
  {
   "cell_type": "markdown",
   "metadata": {},
   "source": [
    "<h3>Splitting the data into testing and training (20:80)</h3>"
   ]
  },
  {
   "cell_type": "code",
   "execution_count": 9,
   "metadata": {
    "id": "vC4qci-EIVWV"
   },
   "outputs": [],
   "source": [
    "X_train, X_test, y_train, y_test = train_test_split(padded_sentences, oneHotEncoded, test_size = 0.20, random_state = np.random)"
   ]
  },
  {
   "cell_type": "markdown",
   "metadata": {},
   "source": [
    "<h3>Making a dictionary to use pretrained weights from the Glove 100d model</h3>"
   ]
  },
  {
   "cell_type": "code",
   "execution_count": 10,
   "metadata": {
    "id": "1GPaP4ZaIVWW"
   },
   "outputs": [],
   "source": [
    "embeddings_dictionary = dict()\n",
    "glove_file = open(r\"C:\\Users\\myste\\Downloads\\glove.6B\\glove.6B.100d.txt\", encoding=\"utf8\")\n",
    "for line in glove_file:\n",
    "    records = line.split()\n",
    "    word = records[0]\n",
    "    vector_dimensions = np.asarray(records[1:], dtype='float32')\n",
    "    embeddings_dictionary [word] = vector_dimensions\n",
    "glove_file.close()"
   ]
  },
  {
   "cell_type": "code",
   "execution_count": 11,
   "metadata": {
    "id": "ZYSOh8hAIVWW"
   },
   "outputs": [],
   "source": [
    "embedding_matrix = np.zeros((vocab_length, 100))\n",
    "for word, index in word_tokenizer.word_index.items():\n",
    "    embedding_vector = embeddings_dictionary.get(word)\n",
    "    if embedding_vector is not None:\n",
    "        embedding_matrix[index] = embedding_vector"
   ]
  },
  {
   "cell_type": "markdown",
   "metadata": {},
   "source": [
    "<h3>Training the data using transfer learning using Neural Networks</h3>"
   ]
  },
  {
   "cell_type": "code",
   "execution_count": 12,
   "metadata": {
    "id": "oRMsXJ6WIVWW"
   },
   "outputs": [],
   "source": [
    "from keras import regularizers\n",
    "model = Sequential()\n",
    "embedding_layer = Embedding(vocab_length, 100, weights=[embedding_matrix], input_length=length_long_sentence, trainable=False)\n",
    "model.add(embedding_layer)\n",
    "model.add(Flatten())\n",
    "model.add(Dense(70, activation='softmax'))\n",
    "model.add(Dense(5, activation='softmax'))"
   ]
  },
  {
   "cell_type": "markdown",
   "metadata": {},
   "source": [
    "<h3>Choosing the optimizer and loss function for training and evaluation</h3>"
   ]
  },
  {
   "cell_type": "code",
   "execution_count": 13,
   "metadata": {
    "colab": {
     "base_uri": "https://localhost:8080/"
    },
    "id": "vU5OfvovIVWW",
    "outputId": "0571a5fc-4836-4ae0-bc9e-e1aed1d47ffa"
   },
   "outputs": [
    {
     "name": "stdout",
     "output_type": "stream",
     "text": [
      "Model: \"sequential\"\n",
      "_________________________________________________________________\n",
      "Layer (type)                 Output Shape              Param #   \n",
      "=================================================================\n",
      "embedding (Embedding)        (None, 58, 100)           3638600   \n",
      "_________________________________________________________________\n",
      "flatten (Flatten)            (None, 5800)              0         \n",
      "_________________________________________________________________\n",
      "dense (Dense)                (None, 70)                406070    \n",
      "_________________________________________________________________\n",
      "dense_1 (Dense)              (None, 5)                 355       \n",
      "=================================================================\n",
      "Total params: 4,045,025\n",
      "Trainable params: 406,425\n",
      "Non-trainable params: 3,638,600\n",
      "_________________________________________________________________\n",
      "None\n"
     ]
    }
   ],
   "source": [
    "import keras\n",
    "opt = keras.optimizers.SGD(learning_rate = 0.001)\n",
    "model.compile(optimizer = opt, loss='categorical_crossentropy', metrics=['acc'])\n",
    "print(model.summary())"
   ]
  },
  {
   "cell_type": "code",
   "execution_count": 14,
   "metadata": {
    "colab": {
     "base_uri": "https://localhost:8080/"
    },
    "id": "PCakOkz3IVWX",
    "outputId": "57a07890-688f-4697-aa56-c788b18baa4d",
    "scrolled": true
   },
   "outputs": [
    {
     "name": "stdout",
     "output_type": "stream",
     "text": [
      "Epoch 1/20\n",
      "1358/1358 [==============================] - 7s 5ms/step - loss: 1.3398 - acc: 0.7975 - val_loss: 1.1371 - val_acc: 0.7966\n",
      "Epoch 2/20\n",
      "1358/1358 [==============================] - 7s 5ms/step - loss: 1.0146 - acc: 0.7975 - val_loss: 0.9231 - val_acc: 0.7966\n",
      "Epoch 3/20\n",
      "1358/1358 [==============================] - 6s 5ms/step - loss: 0.8673 - acc: 0.7975 - val_loss: 0.8271 - val_acc: 0.7966\n",
      "Epoch 4/20\n",
      "1358/1358 [==============================] - 6s 5ms/step - loss: 0.7989 - acc: 0.7975 - val_loss: 0.7801 - val_acc: 0.7966\n",
      "Epoch 5/20\n",
      "1358/1358 [==============================] - 6s 5ms/step - loss: 0.7637 - acc: 0.7975 - val_loss: 0.7543 - val_acc: 0.7966\n",
      "Epoch 6/20\n",
      "1358/1358 [==============================] - 6s 5ms/step - loss: 0.7432 - acc: 0.7975 - val_loss: 0.7384 - val_acc: 0.7966\n",
      "Epoch 7/20\n",
      "1358/1358 [==============================] - 7s 5ms/step - loss: 0.7298 - acc: 0.7975 - val_loss: 0.7275 - val_acc: 0.7966\n",
      "Epoch 8/20\n",
      "1358/1358 [==============================] - 6s 5ms/step - loss: 0.7203 - acc: 0.7975 - val_loss: 0.7193 - val_acc: 0.7966\n",
      "Epoch 9/20\n",
      "1358/1358 [==============================] - 6s 4ms/step - loss: 0.7129 - acc: 0.7975 - val_loss: 0.7129 - val_acc: 0.7966\n",
      "Epoch 10/20\n",
      "1358/1358 [==============================] - 6s 4ms/step - loss: 0.7070 - acc: 0.7975 - val_loss: 0.7077 - val_acc: 0.7966\n",
      "Epoch 11/20\n",
      "1358/1358 [==============================] - 6s 5ms/step - loss: 0.7021 - acc: 0.7975 - val_loss: 0.7032 - val_acc: 0.7966\n",
      "Epoch 12/20\n",
      "1358/1358 [==============================] - 6s 5ms/step - loss: 0.6979 - acc: 0.7975 - val_loss: 0.6994 - val_acc: 0.7966\n",
      "Epoch 13/20\n",
      "1358/1358 [==============================] - 6s 5ms/step - loss: 0.6943 - acc: 0.7975 - val_loss: 0.6961 - val_acc: 0.7966\n",
      "Epoch 14/20\n",
      "1358/1358 [==============================] - 6s 5ms/step - loss: 0.6911 - acc: 0.7975 - val_loss: 0.6932 - val_acc: 0.7966\n",
      "Epoch 15/20\n",
      "1358/1358 [==============================] - 6s 5ms/step - loss: 0.6883 - acc: 0.7975 - val_loss: 0.6906 - val_acc: 0.7966\n",
      "Epoch 16/20\n",
      "1358/1358 [==============================] - 6s 5ms/step - loss: 0.6858 - acc: 0.7975 - val_loss: 0.6882 - val_acc: 0.7966\n",
      "Epoch 17/20\n",
      "1358/1358 [==============================] - 6s 5ms/step - loss: 0.6835 - acc: 0.7975 - val_loss: 0.6861 - val_acc: 0.7966\n",
      "Epoch 18/20\n",
      "1358/1358 [==============================] - 6s 5ms/step - loss: 0.6815 - acc: 0.7975 - val_loss: 0.6842 - val_acc: 0.7966\n",
      "Epoch 19/20\n",
      "1358/1358 [==============================] - 7s 5ms/step - loss: 0.6797 - acc: 0.7975 - val_loss: 0.6825 - val_acc: 0.7966\n",
      "Epoch 20/20\n",
      "1358/1358 [==============================] - 6s 5ms/step - loss: 0.6780 - acc: 0.7975 - val_loss: 0.6810 - val_acc: 0.7966\n"
     ]
    }
   ],
   "source": [
    "history = model.fit(X_train, y_train, validation_data = (X_test, y_test),epochs=20, verbose=1)"
   ]
  },
  {
   "cell_type": "markdown",
   "metadata": {},
   "source": [
    "<h3>Plotting the graph for loss function</h3>"
   ]
  },
  {
   "cell_type": "code",
   "execution_count": 15,
   "metadata": {
    "colab": {
     "base_uri": "https://localhost:8080/",
     "height": 295
    },
    "id": "1SpR-FDkLd46",
    "outputId": "0828c3f6-a069-4614-947c-39d6677560f6"
   },
   "outputs": [
    {
     "data": {
      "image/png": "[encoded data removed]",
      "text/plain": [
       "<Figure size 432x288 with 1 Axes>"
      ]
     },
     "metadata": {
      "needs_background": "light"
     },
     "output_type": "display_data"
    }
   ],
   "source": [
    "# loss vs epoch\n",
    "plt.plot(history.history['loss'])\n",
    "plt.plot(history.history['val_loss'])\n",
    "plt.title('\"Model Loss\"')\n",
    "plt.ylabel('Loss')\n",
    "plt.xlabel('Epoch')\n",
    "plt.legend(['Train', 'Test'], loc='upper right')\n",
    "plt.show()"
   ]
  },
  {
   "cell_type": "markdown",
   "metadata": {},
   "source": [
    "<h3>Predicting the rating of a self given title</h3>"
   ]
  },
  {
   "cell_type": "code",
   "execution_count": 16,
   "metadata": {
    "colab": {
     "base_uri": "https://localhost:8080/"
    },
    "id": "HDHCqWYHIVWX",
    "outputId": "22f2b9cc-a914-4e4d-fd84-1cf5d477c798"
   },
   "outputs": [
    {
     "data": {
      "text/plain": [
       "array([[   1,  218,   31,    2, 3267,    0,    0,    0,    0,    0,    0,\n",
       "           0,    0,    0,    0,    0,    0,    0,    0,    0,    0,    0,\n",
       "           0,    0,    0,    0,    0,    0,    0,    0,    0,    0,    0,\n",
       "           0,    0,    0,    0,    0,    0,    0,    0,    0,    0,    0,\n",
       "           0,    0,    0,    0,    0,    0,    0,    0,    0,    0,    0,\n",
       "           0,    0,    0]])"
      ]
     },
     "execution_count": 16,
     "metadata": {},
     "output_type": "execute_result"
    }
   ],
   "source": [
    "x2 = word_tokenizer.texts_to_sequences([\"The ghost stories of Egypt\"])\n",
    "new_sentences2 = pad_sequences(x2, length_long_sentence, padding='post')\n",
    "new_sentences2"
   ]
  },
  {
   "cell_type": "code",
   "execution_count": 17,
   "metadata": {
    "colab": {
     "base_uri": "https://localhost:8080/"
    },
    "id": "F44_h1y9IVWY",
    "outputId": "4a540e30-b02f-4739-cf4d-e5cca581e14e"
   },
   "outputs": [
    {
     "name": "stdout",
     "output_type": "stream",
     "text": [
      "Book rating will be between 3.7 to 4.4\n"
     ]
    }
   ],
   "source": [
    "what = model.predict(new_sentences2)\n",
    "maxi = np.argmax(what)\n",
    "if maxi == 4:\n",
    "    print(\"Book rating will be between 4.5 to 5.0\")\n",
    "elif maxi == 3:\n",
    "    print(\"Book rating will be between 3.7 to 4.4\")\n",
    "elif maxi == 2:\n",
    "    print(\"Book rating will be between 3.6 to 2.8\")\n",
    "elif maxi == 1:\n",
    "    print(\"Book rating will be between 2.7 to 1.8\")\n",
    "elif maxi == 0:\n",
    "    print(\"Book rating will be between 1.7 to 0.0\")"
   ]
  },
  {
   "cell_type": "markdown",
   "metadata": {},
   "source": [
    "<h3>Finding the testing and training accuracies</h3>"
   ]
  },
  {
   "cell_type": "code",
   "execution_count": 18,
   "metadata": {
    "colab": {
     "base_uri": "https://localhost:8080/"
    },
    "id": "7YfneIErIVWZ",
    "outputId": "bd7a4262-0866-49c9-dd07-a864669ab237"
   },
   "outputs": [
    {
     "name": "stdout",
     "output_type": "stream",
     "text": [
      "Accuracy: 79.661173\n"
     ]
    }
   ],
   "source": [
    "loss, accuracy = model.evaluate(X_test, y_test, verbose=0)\n",
    "print('Accuracy: %f' % (accuracy*100))"
   ]
  },
  {
   "cell_type": "code",
   "execution_count": 19,
   "metadata": {},
   "outputs": [
    {
     "name": "stdout",
     "output_type": "stream",
     "text": [
      "Accuracy: 79.746777\n"
     ]
    }
   ],
   "source": [
    "loss, accuracy = model.evaluate(X_train, y_train, verbose=0)\n",
    "print('Accuracy: %f' % (accuracy*100))"
   ]
  },
  {
   "cell_type": "markdown",
   "metadata": {},
   "source": [
    "<h2>Observations:</h2><br>\n",
    "<p>1. The graph for the loss function for training and testing data shows that the datas have a similar loss rates and the shape of the graph suggests a good analysis using the proper learning rate, this shows a good fit.</p>\n",
    "<p>2. Further analysis using the training and testing accuracy shows that the difference in accuracies is only 0.1% which further validates the above because this suggests the model is not under or overfit.</p>"
   ]
  },
  {
   "cell_type": "code",
   "execution_count": null,
   "metadata": {},
   "outputs": [],
   "source": []
  }
 ],
 "metadata": {
  "accelerator": "GPU",
  "colab": {
   "name": "ML Project.ipynb",
   "provenance": []
  },
  "kernelspec": {
   "display_name": "Python 3",
   "language": "python",
   "name": "python3"
  },
  "language_info": {
   "codemirror_mode": {
    "name": "ipython",
    "version": 3
   },
   "file_extension": ".py",
   "mimetype": "text/x-python",
   "name": "python",
   "nbconvert_exporter": "python",
   "pygments_lexer": "ipython3",
   "version": "3.7.6"
  }
 },
 "nbformat": 4,
 "nbformat_minor": 1
}
